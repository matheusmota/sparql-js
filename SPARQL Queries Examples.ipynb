{
 "cells": [
  {
   "cell_type": "markdown",
   "metadata": {},
   "source": [
    "## Simple Sparql Query"
   ]
  },
  {
   "cell_type": "code",
   "execution_count": 1,
   "metadata": {
    "collapsed": false,
    "scrolled": true
   },
   "outputs": [
    {
     "data": {
      "text/html": [
       "<div class=\"krn-spql\"><div class=\"magic\">Endpoint set to: http://dbpedia.org/sparql</div><div class=\"magic\">Display: table<br/>Show Types: on</div></div>"
      ],
      "text/plain": [
       "Endpoint set to: http://dbpedia.org/sparql\n",
       "Display: table\n",
       "Show Types: on\n"
      ]
     },
     "metadata": {},
     "output_type": "display_data"
    },
    {
     "data": {
      "text/html": [
       "<div class=\"krn-spql\"><table><tr class=hdr><th>person</th><th>type</th>\n",
       "<th>property</th><th>type</th></tr><tr class=odd><td class=val><a href=\"http://dbpedia.org/resource/Anthony_da_Silva\" target=\"_other\">http://dbpedia.org/resource/Anthony_da_Silva</a></td><td class=typ>uri</td>\n",
       "<td class=val><a href=\"http://www.w3.org/2002/07/owl#differentFrom\" target=\"_other\">http://www.w3.org/2002/07/owl#differentFrom</a></td><td class=typ>uri</td></tr><tr class=even><td class=val><a href=\"http://dbpedia.org/resource/Christian_I_of_Denmark\" target=\"_other\">http://dbpedia.org/resource/Christian_I_of_Denmark</a></td><td class=typ>uri</td>\n",
       "<td class=val><a href=\"http://www.w3.org/2002/07/owl#differentFrom\" target=\"_other\">http://www.w3.org/2002/07/owl#differentFrom</a></td><td class=typ>uri</td></tr><tr class=odd><td class=val><a href=\"http://dbpedia.org/resource/David_Evans_(RAAF_officer)\" target=\"_other\">http://dbpedia.org/resource/David_Evans_(RAAF_officer)</a></td><td class=typ>uri</td>\n",
       "<td class=val><a href=\"http://www.w3.org/2002/07/owl#differentFrom\" target=\"_other\">http://www.w3.org/2002/07/owl#differentFrom</a></td><td class=typ>uri</td></tr><tr class=even><td class=val><a href=\"http://dbpedia.org/resource/George_Allen_(American_football_coach)\" target=\"_other\">http://dbpedia.org/resource/George_Allen_(American_football_coach)</a></td><td class=typ>uri</td>\n",
       "<td class=val><a href=\"http://www.w3.org/2002/07/owl#differentFrom\" target=\"_other\">http://www.w3.org/2002/07/owl#differentFrom</a></td><td class=typ>uri</td></tr><tr class=odd><td class=val><a href=\"http://dbpedia.org/resource/George_Allen_(footballer)\" target=\"_other\">http://dbpedia.org/resource/George_Allen_(footballer)</a></td><td class=typ>uri</td>\n",
       "<td class=val><a href=\"http://www.w3.org/2002/07/owl#differentFrom\" target=\"_other\">http://www.w3.org/2002/07/owl#differentFrom</a></td><td class=typ>uri</td></tr><tr class=even><td class=val><a href=\"http://dbpedia.org/resource/Abel_Gómez_Moreno\" target=\"_other\">http://dbpedia.org/resource/Abel_Gómez_Moreno</a></td><td class=typ>uri</td>\n",
       "<td class=val><a href=\"http://www.w3.org/2002/07/owl#sameAs\" target=\"_other\">http://www.w3.org/2002/07/owl#sameAs</a></td><td class=typ>uri</td></tr><tr class=odd><td class=val><a href=\"http://dbpedia.org/resource/Agustín_de_Iturbide_y_Green\" target=\"_other\">http://dbpedia.org/resource/Agustín_de_Iturbide_y_Green</a></td><td class=typ>uri</td>\n",
       "<td class=val><a href=\"http://www.w3.org/2002/07/owl#sameAs\" target=\"_other\">http://www.w3.org/2002/07/owl#sameAs</a></td><td class=typ>uri</td></tr><tr class=even><td class=val><a href=\"http://dbpedia.org/resource/Anders_Franzén\" target=\"_other\">http://dbpedia.org/resource/Anders_Franzén</a></td><td class=typ>uri</td>\n",
       "<td class=val><a href=\"http://www.w3.org/2002/07/owl#sameAs\" target=\"_other\">http://www.w3.org/2002/07/owl#sameAs</a></td><td class=typ>uri</td></tr><tr class=odd><td class=val><a href=\"http://dbpedia.org/resource/Antônio_Wilson_Vieira_Honório\" target=\"_other\">http://dbpedia.org/resource/Antônio_Wilson_Vieira_Honório</a></td><td class=typ>uri</td>\n",
       "<td class=val><a href=\"http://www.w3.org/2002/07/owl#sameAs\" target=\"_other\">http://www.w3.org/2002/07/owl#sameAs</a></td><td class=typ>uri</td></tr><tr class=even><td class=val><a href=\"http://dbpedia.org/resource/Antônio_de_Moura_Carvalho\" target=\"_other\">http://dbpedia.org/resource/Antônio_de_Moura_Carvalho</a></td><td class=typ>uri</td>\n",
       "<td class=val><a href=\"http://www.w3.org/2002/07/owl#sameAs\" target=\"_other\">http://www.w3.org/2002/07/owl#sameAs</a></td><td class=typ>uri</td></tr></table><div class=\"tinfo\">Total: 10, Shown: 10</div></div>"
      ]
     },
     "metadata": {},
     "output_type": "display_data"
    }
   ],
   "source": [
    "%endpoint http://dbpedia.org/sparql\n",
    "%display table withtypes\n",
    "\n",
    "SELECT DISTINCT ?person ,?property\n",
    "WHERE {\n",
    "   ?s ?property ?person .\n",
    "   ?person rdf:type foaf:Person .\n",
    "}\n",
    "LIMIT 10"
   ]
  },
  {
   "cell_type": "markdown",
   "metadata": {},
   "source": [
    "## Same Query, Different Endpoint"
   ]
  },
  {
   "cell_type": "code",
   "execution_count": 2,
   "metadata": {
    "collapsed": false
   },
   "outputs": [
    {
     "data": {
      "text/html": [
       "<div class=\"krn-spql\"><div class=\"magic\">Endpoint set to: http://sparql.lis.ic.unicamp.br</div><div class=\"magic\">Display: table<br/>Show Types: on</div></div>"
      ],
      "text/plain": [
       "Endpoint set to: http://sparql.lis.ic.unicamp.br\n",
       "Display: table\n",
       "Show Types: on\n"
      ]
     },
     "metadata": {},
     "output_type": "display_data"
    },
    {
     "data": {
      "text/html": [
       "<div class=\"krn-spql\"><table><tr class=hdr><th>person</th><th>type</th>\n",
       "<th>property</th><th>type</th></tr><tr class=odd><td class=val><a href=\"http://purl.org/ontology/bibo/bdarcus\" target=\"_other\">http://purl.org/ontology/bibo/bdarcus</a></td><td class=typ>uri</td>\n",
       "<td class=val><a href=\"http://purl.org/dc/elements/1.1/creator\" target=\"_other\">http://purl.org/dc/elements/1.1/creator</a></td><td class=typ>uri</td></tr><tr class=even><td class=val><a href=\"http://purl.org/ontology/bibo/fgiasson\" target=\"_other\">http://purl.org/ontology/bibo/fgiasson</a></td><td class=typ>uri</td>\n",
       "<td class=val><a href=\"http://purl.org/dc/elements/1.1/creator\" target=\"_other\">http://purl.org/dc/elements/1.1/creator</a></td><td class=typ>uri</td></tr><tr class=odd><td class=val><a href=\"http://dbpedia.org/resource/Douglas_Adams\" target=\"_other\">http://dbpedia.org/resource/Douglas_Adams</a></td><td class=typ>uri</td>\n",
       "<td class=val><a href=\"http://xmlns.com/foaf/0.1/primaryTopic\" target=\"_other\">http://xmlns.com/foaf/0.1/primaryTopic</a></td><td class=typ>uri</td></tr><tr class=even><td class=val><a href=\"http://dbpedia.org/resource/Douglas_Adams\" target=\"_other\">http://dbpedia.org/resource/Douglas_Adams</a></td><td class=typ>uri</td>\n",
       "<td class=val><a href=\"http://dbpedia.org/ontology/wikiPageWikiLink\" target=\"_other\">http://dbpedia.org/ontology/wikiPageWikiLink</a></td><td class=typ>uri</td></tr><tr class=odd><td class=val><a href=\"http://dbpedia.org/resource/Douglas_Adams\" target=\"_other\">http://dbpedia.org/resource/Douglas_Adams</a></td><td class=typ>uri</td>\n",
       "<td class=val><a href=\"http://dbpedia.org/ontology/wikiPageRedirects\" target=\"_other\">http://dbpedia.org/ontology/wikiPageRedirects</a></td><td class=typ>uri</td></tr><tr class=even><td class=val><a href=\"http://dbpedia.org/resource/Douglas_Adams\" target=\"_other\">http://dbpedia.org/resource/Douglas_Adams</a></td><td class=typ>uri</td>\n",
       "<td class=val><a href=\"http://dbpedia.org/ontology/wikiPageDisambiguates\" target=\"_other\">http://dbpedia.org/ontology/wikiPageDisambiguates</a></td><td class=typ>uri</td></tr><tr class=odd><td class=val><a href=\"http://dbpedia.org/resource/Douglas_Adams\" target=\"_other\">http://dbpedia.org/resource/Douglas_Adams</a></td><td class=typ>uri</td>\n",
       "<td class=val><a href=\"http://dbpedia.org/ontology/similar\" target=\"_other\">http://dbpedia.org/ontology/similar</a></td><td class=typ>uri</td></tr><tr class=even><td class=val><a href=\"http://dbpedia.org/resource/Douglas_Adams\" target=\"_other\">http://dbpedia.org/resource/Douglas_Adams</a></td><td class=typ>uri</td>\n",
       "<td class=val><a href=\"http://dbpedia.org/ontology/designer\" target=\"_other\">http://dbpedia.org/ontology/designer</a></td><td class=typ>uri</td></tr><tr class=odd><td class=val><a href=\"http://dbpedia.org/resource/Douglas_Adams\" target=\"_other\">http://dbpedia.org/resource/Douglas_Adams</a></td><td class=typ>uri</td>\n",
       "<td class=val><a href=\"http://dbpedia.org/ontology/influenced\" target=\"_other\">http://dbpedia.org/ontology/influenced</a></td><td class=typ>uri</td></tr><tr class=even><td class=val><a href=\"http://dbpedia.org/resource/Douglas_Adams\" target=\"_other\">http://dbpedia.org/resource/Douglas_Adams</a></td><td class=typ>uri</td>\n",
       "<td class=val><a href=\"http://dbpedia.org/ontology/author\" target=\"_other\">http://dbpedia.org/ontology/author</a></td><td class=typ>uri</td></tr></table><div class=\"tinfo\">Total: 10, Shown: 10</div></div>"
      ]
     },
     "metadata": {},
     "output_type": "display_data"
    }
   ],
   "source": [
    "%endpoint http://sparql.lis.ic.unicamp.br\n",
    "%display table withtypes\n",
    "\n",
    "SELECT DISTINCT ?person ,?property\n",
    "WHERE {\n",
    "   ?s ?property ?person .\n",
    "   ?person rdf:type foaf:Person .\n",
    "}\n",
    "LIMIT 10"
   ]
  }
 ],
 "metadata": {
  "kernelspec": {
   "display_name": "SPARQL",
   "language": "",
   "name": "sparql"
  },
  "language_info": {
   "codemirror_mode": {
    "name": "sparql"
   },
   "mimetype": "application/sparql-query",
   "name": "sparql",
   "pygments_lexer": "sparql-nb"
  }
 },
 "nbformat": 4,
 "nbformat_minor": 2
}
